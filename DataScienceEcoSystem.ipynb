{
 "cells": [
  {
   "cell_type": "markdown",
   "id": "b41fc4cb",
   "metadata": {},
   "source": [
    "# Data Science Tools and Ecosystem"
   ]
  },
  {
   "cell_type": "markdown",
   "id": "87cb4898",
   "metadata": {},
   "source": [
    "In this notebook, Data Science Tools and Ecosystem are summeized"
   ]
  },
  {
   "cell_type": "code",
   "execution_count": 1,
   "id": "11fffaee",
   "metadata": {},
   "outputs": [
    {
     "name": "stdout",
     "output_type": "stream",
     "text": [
      "['Python', 'R', 'SQL', 'Scala']\n"
     ]
    }
   ],
   "source": [
    "data = [\"Python\", \"R\", \"SQL\", \"Scala\"]\n",
    "print(data)"
   ]
  },
  {
   "cell_type": "markdown",
   "id": "cd69c69a",
   "metadata": {},
   "source": [
    "list the data science libraries"
   ]
  },
  {
   "cell_type": "code",
   "execution_count": 2,
   "id": "1f6cbf10",
   "metadata": {},
   "outputs": [
    {
     "name": "stdout",
     "output_type": "stream",
     "text": [
      "['NumPy', 'PyTorch', 'TensorFlow', 'SciPy', ' Matplotlib', 'Pandas', 'Scikit-Learn']\n"
     ]
    }
   ],
   "source": [
    "data1 = [\"NumPy\", \"PyTorch\", \"TensorFlow\", \"SciPy\", \" Matplotlib\", \"Pandas\", \"Scikit-Learn\"]\n",
    "print(data1)"
   ]
  },
  {
   "cell_type": "code",
   "execution_count": 5,
   "id": "b9d43410",
   "metadata": {},
   "outputs": [],
   "source": [
    "# importing pandas as library\n",
    "import pandas as pd\n",
    "\n",
    "# creating data frame:\n",
    "df = pd.DataFrame({'Tools': ['NumPy', 'PyTorch', 'SciPy',\n",
    "                            'Matplotlib', 'Scikit-Learn'] \n",
    "                  })\n"
   ]
  },
  {
   "cell_type": "code",
   "execution_count": 6,
   "id": "38df5f2d",
   "metadata": {},
   "outputs": [
    {
     "name": "stdout",
     "output_type": "stream",
     "text": [
      "          Tools\n",
      "0         NumPy\n",
      "1       PyTorch\n",
      "2         SciPy\n",
      "3    Matplotlib\n",
      "4  Scikit-Learn\n"
     ]
    }
   ],
   "source": [
    "print(df)"
   ]
  },
  {
   "cell_type": "markdown",
   "id": "13ed52fe",
   "metadata": {},
   "source": [
    "### Below are a few examples of evaluating arithmetic expressions in Python"
   ]
  },
  {
   "cell_type": "code",
   "execution_count": 7,
   "id": "20cf5210",
   "metadata": {},
   "outputs": [
    {
     "data": {
      "text/plain": [
       "17"
      ]
     },
     "execution_count": 7,
     "metadata": {},
     "output_type": "execute_result"
    }
   ],
   "source": [
    "(3*4)+5"
   ]
  },
  {
   "cell_type": "markdown",
   "id": "d91706a0",
   "metadata": {},
   "source": [
    " ### This will convert 200 minutes to hours by diving by 60"
   ]
  },
  {
   "cell_type": "code",
   "execution_count": 10,
   "id": "95d9495a",
   "metadata": {},
   "outputs": [
    {
     "name": "stdout",
     "output_type": "stream",
     "text": [
      "3:20\n"
     ]
    }
   ],
   "source": [
    "total_minutes = 200\n",
    "\n",
    "# Get hours with floor division\n",
    "hours = total_minutes // 60\n",
    "\n",
    "# Get additional minutes with modulus\n",
    "minutes = total_minutes % 60\n",
    "\n",
    "# Create time as a string\n",
    "time = \"{}:{}\".format(hours, minutes,)\n",
    "\n",
    "print(time)"
   ]
  },
  {
   "cell_type": "markdown",
   "id": "130fea49",
   "metadata": {},
   "source": [
    "#  Objectives\n",
    "\n",
    "  "
   ]
  },
  {
   "cell_type": "markdown",
   "id": "5e3bc595",
   "metadata": {},
   "source": [
    "# Author"
   ]
  },
  {
   "cell_type": "markdown",
   "id": "94cbc647",
   "metadata": {},
   "source": [
    "D Vishnu Varahan Reddy"
   ]
  },
  {
   "cell_type": "code",
   "execution_count": null,
   "id": "1c7a9f9b",
   "metadata": {},
   "outputs": [],
   "source": []
  }
 ],
 "metadata": {
  "kernelspec": {
   "display_name": "Python 3 (ipykernel)",
   "language": "python",
   "name": "python3"
  },
  "language_info": {
   "codemirror_mode": {
    "name": "ipython",
    "version": 3
   },
   "file_extension": ".py",
   "mimetype": "text/x-python",
   "name": "python",
   "nbconvert_exporter": "python",
   "pygments_lexer": "ipython3",
   "version": "3.9.13"
  }
 },
 "nbformat": 4,
 "nbformat_minor": 5
}
